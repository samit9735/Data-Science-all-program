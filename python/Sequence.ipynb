{
 "cells": [
  {
   "cell_type": "markdown",
   "id": "51496c4c",
   "metadata": {},
   "source": [
    "# Sequence"
   ]
  },
  {
   "cell_type": "markdown",
   "id": "baa81609",
   "metadata": {},
   "source": [
    "#### List"
   ]
  },
  {
   "cell_type": "code",
   "execution_count": null,
   "id": "cc6f7ba2",
   "metadata": {},
   "outputs": [],
   "source": [
    "lst = []\n",
    "type(lst)"
   ]
  },
  {
   "cell_type": "code",
   "execution_count": null,
   "id": "cffb0012",
   "metadata": {},
   "outputs": [],
   "source": [
    "marks = [65,76,48,93,55]\n",
    "marks"
   ]
  },
  {
   "cell_type": "code",
   "execution_count": null,
   "id": "ee2654f1",
   "metadata": {},
   "outputs": [],
   "source": [
    "l1 = [100,'Tom','MySql', 78]"
   ]
  },
  {
   "cell_type": "code",
   "execution_count": null,
   "id": "91ae42df",
   "metadata": {},
   "outputs": [],
   "source": [
    "l1[1]"
   ]
  },
  {
   "cell_type": "markdown",
   "id": "9545be86",
   "metadata": {},
   "source": [
    "#### Slicing"
   ]
  },
  {
   "cell_type": "code",
   "execution_count": 1,
   "id": "0ab83799",
   "metadata": {},
   "outputs": [],
   "source": [
    "lst = [11,21,32,54,45,76,97,80,91]"
   ]
  },
  {
   "cell_type": "code",
   "execution_count": 2,
   "id": "4421636c",
   "metadata": {},
   "outputs": [
    {
     "data": {
      "text/plain": [
       "[54, 45, 76, 97]"
      ]
     },
     "execution_count": 2,
     "metadata": {},
     "output_type": "execute_result"
    }
   ],
   "source": [
    "lst[3:7]"
   ]
  },
  {
   "cell_type": "code",
   "execution_count": 3,
   "id": "2420b08c",
   "metadata": {},
   "outputs": [
    {
     "data": {
      "text/plain": [
       "[11, 21, 32, 54, 45, 76, 97]"
      ]
     },
     "execution_count": 3,
     "metadata": {},
     "output_type": "execute_result"
    }
   ],
   "source": [
    "lst[:7]"
   ]
  },
  {
   "cell_type": "code",
   "execution_count": 4,
   "id": "a25f642d",
   "metadata": {},
   "outputs": [
    {
     "data": {
      "text/plain": [
       "[54, 45, 76, 97, 80, 91]"
      ]
     },
     "execution_count": 4,
     "metadata": {},
     "output_type": "execute_result"
    }
   ],
   "source": [
    "lst[3:]"
   ]
  },
  {
   "cell_type": "code",
   "execution_count": 5,
   "id": "0483dff0",
   "metadata": {},
   "outputs": [
    {
     "data": {
      "text/plain": [
       "[11, 21, 32, 54, 45, 76, 97, 80, 91]"
      ]
     },
     "execution_count": 5,
     "metadata": {},
     "output_type": "execute_result"
    }
   ],
   "source": [
    "lst[:]"
   ]
  },
  {
   "cell_type": "code",
   "execution_count": 6,
   "id": "abafb113",
   "metadata": {},
   "outputs": [
    {
     "data": {
      "text/plain": [
       "[(0, 11),\n",
       " (1, 21),\n",
       " (2, 32),\n",
       " (3, 54),\n",
       " (4, 45),\n",
       " (5, 76),\n",
       " (6, 97),\n",
       " (7, 80),\n",
       " (8, 91)]"
      ]
     },
     "execution_count": 6,
     "metadata": {},
     "output_type": "execute_result"
    }
   ],
   "source": [
    "list(enumerate(lst))"
   ]
  },
  {
   "cell_type": "code",
   "execution_count": 8,
   "id": "e696d1a6",
   "metadata": {},
   "outputs": [
    {
     "data": {
      "text/plain": [
       "[32, 76]"
      ]
     },
     "execution_count": 8,
     "metadata": {},
     "output_type": "execute_result"
    }
   ],
   "source": [
    "lst[2:8:3]"
   ]
  },
  {
   "cell_type": "code",
   "execution_count": 31,
   "id": "75e2d924",
   "metadata": {},
   "outputs": [],
   "source": [
    "new_lst = lst[::-1]"
   ]
  },
  {
   "cell_type": "code",
   "execution_count": 32,
   "id": "b251466a",
   "metadata": {},
   "outputs": [
    {
     "data": {
      "text/plain": [
       "[67, 34, 42, 12, 98, 56]"
      ]
     },
     "execution_count": 32,
     "metadata": {},
     "output_type": "execute_result"
    }
   ],
   "source": [
    "lst"
   ]
  },
  {
   "cell_type": "code",
   "execution_count": 33,
   "id": "cfd8bd8b",
   "metadata": {},
   "outputs": [
    {
     "data": {
      "text/plain": [
       "[56, 98, 12, 42, 34, 67]"
      ]
     },
     "execution_count": 33,
     "metadata": {},
     "output_type": "execute_result"
    }
   ],
   "source": [
    "new_lst"
   ]
  },
  {
   "cell_type": "code",
   "execution_count": 9,
   "id": "064b2d5f",
   "metadata": {},
   "outputs": [
    {
     "data": {
      "text/plain": [
       "[91, 80, 97, 76, 45, 54]"
      ]
     },
     "execution_count": 9,
     "metadata": {},
     "output_type": "execute_result"
    }
   ],
   "source": [
    "lst[8:2:-1]"
   ]
  },
  {
   "cell_type": "markdown",
   "id": "aeee2090",
   "metadata": {},
   "source": [
    "#### Tuple"
   ]
  },
  {
   "cell_type": "code",
   "execution_count": null,
   "id": "bb1dcf29",
   "metadata": {},
   "outputs": [],
   "source": [
    "tup = ()\n",
    "type(tup)"
   ]
  },
  {
   "cell_type": "code",
   "execution_count": null,
   "id": "73e4af0c",
   "metadata": {},
   "outputs": [],
   "source": [
    "my_tup = (65,76,48,93,55)\n",
    "my_tup"
   ]
  },
  {
   "cell_type": "code",
   "execution_count": null,
   "id": "04ece45a",
   "metadata": {},
   "outputs": [],
   "source": [
    "my_tup[3]"
   ]
  },
  {
   "cell_type": "code",
   "execution_count": null,
   "id": "763807bb",
   "metadata": {},
   "outputs": [],
   "source": []
  },
  {
   "cell_type": "markdown",
   "id": "a49bdf0c",
   "metadata": {},
   "source": [
    "#### String"
   ]
  },
  {
   "cell_type": "code",
   "execution_count": null,
   "id": "de6366e5",
   "metadata": {},
   "outputs": [],
   "source": [
    "my_str = 'Serendipity'\n",
    "type(my_str)"
   ]
  },
  {
   "cell_type": "code",
   "execution_count": null,
   "id": "b08e7d2f",
   "metadata": {},
   "outputs": [],
   "source": [
    "my_str[3]"
   ]
  },
  {
   "cell_type": "code",
   "execution_count": null,
   "id": "ade0edc5",
   "metadata": {},
   "outputs": [],
   "source": [
    "list(enumerate(my_str))"
   ]
  },
  {
   "cell_type": "code",
   "execution_count": null,
   "id": "b6a4cb4b",
   "metadata": {},
   "outputs": [],
   "source": [
    "my_str[::-1]"
   ]
  },
  {
   "cell_type": "markdown",
   "id": "1d81bc03",
   "metadata": {},
   "source": [
    "### Sequences are Iterable"
   ]
  },
  {
   "cell_type": "code",
   "execution_count": null,
   "id": "ec7fe719",
   "metadata": {},
   "outputs": [],
   "source": [
    "lst = ['Apple','Orange','Kiwi','Grapes']\n",
    "for fruit in lst:\n",
    "    print(fruit)\n",
    "    print('Hi')\n",
    "print('___________')"
   ]
  },
  {
   "cell_type": "code",
   "execution_count": null,
   "id": "0f775bdd",
   "metadata": {},
   "outputs": [],
   "source": [
    "my_str = 'Python'\n",
    "for c in my_str:\n",
    "    print(c)"
   ]
  },
  {
   "cell_type": "markdown",
   "id": "5e3e1a2c",
   "metadata": {},
   "source": [
    "### Repetition Operation"
   ]
  },
  {
   "cell_type": "code",
   "execution_count": null,
   "id": "f8eb2969",
   "metadata": {},
   "outputs": [],
   "source": [
    "lst = [1,2,3]\n",
    "lst*3"
   ]
  },
  {
   "cell_type": "code",
   "execution_count": null,
   "id": "9d49318c",
   "metadata": {},
   "outputs": [],
   "source": [
    "m1 = 'Python'\n",
    "m1*6"
   ]
  },
  {
   "cell_type": "markdown",
   "id": "30b37cfd",
   "metadata": {},
   "source": [
    "# List Methods"
   ]
  },
  {
   "cell_type": "markdown",
   "id": "e9440b9a",
   "metadata": {},
   "source": [
    "## Adding elements to a list"
   ]
  },
  {
   "cell_type": "code",
   "execution_count": 1,
   "id": "09d2303c",
   "metadata": {},
   "outputs": [
    {
     "data": {
      "text/plain": [
       "[45, 66, 73, 45, 89, 67]"
      ]
     },
     "execution_count": 1,
     "metadata": {},
     "output_type": "execute_result"
    }
   ],
   "source": [
    "lst = [45,66,73,45,89,67]\n",
    "lst"
   ]
  },
  {
   "cell_type": "code",
   "execution_count": 2,
   "id": "c1389fe5",
   "metadata": {},
   "outputs": [],
   "source": [
    "lst.append(100)"
   ]
  },
  {
   "cell_type": "code",
   "execution_count": 3,
   "id": "c7c67981",
   "metadata": {},
   "outputs": [
    {
     "data": {
      "text/plain": [
       "[45, 66, 73, 45, 89, 67, 100]"
      ]
     },
     "execution_count": 3,
     "metadata": {},
     "output_type": "execute_result"
    }
   ],
   "source": [
    "lst"
   ]
  },
  {
   "cell_type": "code",
   "execution_count": 4,
   "id": "5f84dbfb",
   "metadata": {},
   "outputs": [
    {
     "data": {
      "text/plain": [
       "7"
      ]
     },
     "execution_count": 4,
     "metadata": {},
     "output_type": "execute_result"
    }
   ],
   "source": [
    "len(lst)"
   ]
  },
  {
   "cell_type": "code",
   "execution_count": 5,
   "id": "74c5e9fb",
   "metadata": {},
   "outputs": [],
   "source": [
    "lst.append([1,2,3,4,5])"
   ]
  },
  {
   "cell_type": "code",
   "execution_count": 6,
   "id": "fb2d226e",
   "metadata": {},
   "outputs": [
    {
     "data": {
      "text/plain": [
       "[45, 66, 73, 45, 89, 67, 100, [1, 2, 3, 4, 5]]"
      ]
     },
     "execution_count": 6,
     "metadata": {},
     "output_type": "execute_result"
    }
   ],
   "source": [
    "lst"
   ]
  },
  {
   "cell_type": "code",
   "execution_count": 7,
   "id": "26e47435",
   "metadata": {},
   "outputs": [
    {
     "data": {
      "text/plain": [
       "8"
      ]
     },
     "execution_count": 7,
     "metadata": {},
     "output_type": "execute_result"
    }
   ],
   "source": [
    "len(lst)"
   ]
  },
  {
   "cell_type": "code",
   "execution_count": 9,
   "id": "a57a123e",
   "metadata": {},
   "outputs": [
    {
     "data": {
      "text/plain": [
       "[1, 2, 3, 4, 5]"
      ]
     },
     "execution_count": 9,
     "metadata": {},
     "output_type": "execute_result"
    }
   ],
   "source": [
    "lst[7]"
   ]
  },
  {
   "cell_type": "code",
   "execution_count": 10,
   "id": "83dffa95",
   "metadata": {},
   "outputs": [
    {
     "data": {
      "text/plain": [
       "4"
      ]
     },
     "execution_count": 10,
     "metadata": {},
     "output_type": "execute_result"
    }
   ],
   "source": [
    "lst[7][3]"
   ]
  },
  {
   "cell_type": "code",
   "execution_count": null,
   "id": "4a7629d9",
   "metadata": {},
   "outputs": [],
   "source": [
    "lst"
   ]
  },
  {
   "cell_type": "code",
   "execution_count": 11,
   "id": "eb6b1808",
   "metadata": {},
   "outputs": [],
   "source": [
    "lst.insert(4,11)"
   ]
  },
  {
   "cell_type": "code",
   "execution_count": 12,
   "id": "16adadb3",
   "metadata": {},
   "outputs": [
    {
     "data": {
      "text/plain": [
       "[45, 66, 73, 45, 11, 89, 67, 100, [1, 2, 3, 4, 5]]"
      ]
     },
     "execution_count": 12,
     "metadata": {},
     "output_type": "execute_result"
    }
   ],
   "source": [
    "lst"
   ]
  },
  {
   "cell_type": "markdown",
   "id": "df5aca85",
   "metadata": {},
   "source": [
    "## Removing elements from a list"
   ]
  },
  {
   "cell_type": "code",
   "execution_count": 13,
   "id": "a097f2f0",
   "metadata": {},
   "outputs": [
    {
     "data": {
      "text/plain": [
       "[45, 66, 73, 45, 11, 89, 67, 100, [1, 2, 3, 4, 5]]"
      ]
     },
     "execution_count": 13,
     "metadata": {},
     "output_type": "execute_result"
    }
   ],
   "source": [
    "lst"
   ]
  },
  {
   "cell_type": "code",
   "execution_count": 14,
   "id": "a7b81122",
   "metadata": {},
   "outputs": [
    {
     "data": {
      "text/plain": [
       "[1, 2, 3, 4, 5]"
      ]
     },
     "execution_count": 14,
     "metadata": {},
     "output_type": "execute_result"
    }
   ],
   "source": [
    "lst.pop()"
   ]
  },
  {
   "cell_type": "code",
   "execution_count": 15,
   "id": "fb8feb33",
   "metadata": {},
   "outputs": [
    {
     "data": {
      "text/plain": [
       "[45, 66, 73, 45, 11, 89, 67, 100]"
      ]
     },
     "execution_count": 15,
     "metadata": {},
     "output_type": "execute_result"
    }
   ],
   "source": [
    "lst"
   ]
  },
  {
   "cell_type": "code",
   "execution_count": 16,
   "id": "00d4867c",
   "metadata": {},
   "outputs": [
    {
     "data": {
      "text/plain": [
       "100"
      ]
     },
     "execution_count": 16,
     "metadata": {},
     "output_type": "execute_result"
    }
   ],
   "source": [
    "lst.pop()"
   ]
  },
  {
   "cell_type": "code",
   "execution_count": 17,
   "id": "7d4e9d05",
   "metadata": {},
   "outputs": [
    {
     "data": {
      "text/plain": [
       "[45, 66, 73, 45, 11, 89, 67]"
      ]
     },
     "execution_count": 17,
     "metadata": {},
     "output_type": "execute_result"
    }
   ],
   "source": [
    "lst"
   ]
  },
  {
   "cell_type": "code",
   "execution_count": 18,
   "id": "993a59f3",
   "metadata": {},
   "outputs": [
    {
     "data": {
      "text/plain": [
       "73"
      ]
     },
     "execution_count": 18,
     "metadata": {},
     "output_type": "execute_result"
    }
   ],
   "source": [
    "lst.pop(2)"
   ]
  },
  {
   "cell_type": "code",
   "execution_count": 19,
   "id": "333eb329",
   "metadata": {},
   "outputs": [
    {
     "data": {
      "text/plain": [
       "[45, 66, 45, 11, 89, 67]"
      ]
     },
     "execution_count": 19,
     "metadata": {},
     "output_type": "execute_result"
    }
   ],
   "source": [
    "lst"
   ]
  },
  {
   "cell_type": "code",
   "execution_count": 20,
   "id": "bcb30d7c",
   "metadata": {},
   "outputs": [],
   "source": [
    "del lst[3]"
   ]
  },
  {
   "cell_type": "code",
   "execution_count": 21,
   "id": "7d618bd6",
   "metadata": {},
   "outputs": [
    {
     "data": {
      "text/plain": [
       "[45, 66, 45, 89, 67]"
      ]
     },
     "execution_count": 21,
     "metadata": {},
     "output_type": "execute_result"
    }
   ],
   "source": [
    "lst"
   ]
  },
  {
   "cell_type": "code",
   "execution_count": 22,
   "id": "171fe9f0",
   "metadata": {},
   "outputs": [],
   "source": [
    "lst = [45,66,73,45,89,67]"
   ]
  },
  {
   "cell_type": "code",
   "execution_count": 23,
   "id": "0d27a224",
   "metadata": {},
   "outputs": [
    {
     "data": {
      "text/plain": [
       "[45, 66, 73, 45, 89, 67]"
      ]
     },
     "execution_count": 23,
     "metadata": {},
     "output_type": "execute_result"
    }
   ],
   "source": [
    "lst"
   ]
  },
  {
   "cell_type": "code",
   "execution_count": 24,
   "id": "913bb971",
   "metadata": {},
   "outputs": [],
   "source": [
    "lst.clear()"
   ]
  },
  {
   "cell_type": "code",
   "execution_count": 25,
   "id": "0cd575bc",
   "metadata": {},
   "outputs": [
    {
     "data": {
      "text/plain": [
       "[]"
      ]
     },
     "execution_count": 25,
     "metadata": {},
     "output_type": "execute_result"
    }
   ],
   "source": [
    "lst"
   ]
  },
  {
   "cell_type": "markdown",
   "id": "4e13b73a",
   "metadata": {},
   "source": [
    "### Replace"
   ]
  },
  {
   "cell_type": "code",
   "execution_count": 29,
   "id": "0616a35e",
   "metadata": {},
   "outputs": [
    {
     "data": {
      "text/plain": [
       "[45, 66, 73, 45, 89, 67]"
      ]
     },
     "execution_count": 29,
     "metadata": {},
     "output_type": "execute_result"
    }
   ],
   "source": [
    "lst = [45,66,73,45,89,67]\n",
    "lst"
   ]
  },
  {
   "cell_type": "code",
   "execution_count": 30,
   "id": "3ca809b6",
   "metadata": {},
   "outputs": [],
   "source": [
    "lst[2] = 11"
   ]
  },
  {
   "cell_type": "code",
   "execution_count": 31,
   "id": "f6c091d6",
   "metadata": {},
   "outputs": [
    {
     "data": {
      "text/plain": [
       "[45, 66, 11, 45, 89, 67]"
      ]
     },
     "execution_count": 31,
     "metadata": {},
     "output_type": "execute_result"
    }
   ],
   "source": [
    "lst"
   ]
  },
  {
   "cell_type": "markdown",
   "id": "ed932670",
   "metadata": {},
   "source": [
    "#### sort a list"
   ]
  },
  {
   "cell_type": "code",
   "execution_count": 30,
   "id": "611542d5",
   "metadata": {},
   "outputs": [],
   "source": [
    "lst = [67,34,42,12,98,56]"
   ]
  },
  {
   "cell_type": "code",
   "execution_count": 28,
   "id": "8aa9983f",
   "metadata": {},
   "outputs": [],
   "source": [
    "lst.sort()"
   ]
  },
  {
   "cell_type": "code",
   "execution_count": 29,
   "id": "5bc6e84e",
   "metadata": {},
   "outputs": [
    {
     "data": {
      "text/plain": [
       "[12, 34, 42, 56, 67, 98]"
      ]
     },
     "execution_count": 29,
     "metadata": {},
     "output_type": "execute_result"
    }
   ],
   "source": [
    "lst"
   ]
  },
  {
   "cell_type": "code",
   "execution_count": null,
   "id": "ec49d050",
   "metadata": {},
   "outputs": [],
   "source": []
  },
  {
   "cell_type": "code",
   "execution_count": 32,
   "id": "4306896b",
   "metadata": {},
   "outputs": [],
   "source": [
    "lst = [67,34,42,12,98,56]"
   ]
  },
  {
   "cell_type": "code",
   "execution_count": 33,
   "id": "f9d993ce",
   "metadata": {},
   "outputs": [],
   "source": [
    "lst.sort()"
   ]
  },
  {
   "cell_type": "code",
   "execution_count": 34,
   "id": "db64e62d",
   "metadata": {},
   "outputs": [
    {
     "data": {
      "text/plain": [
       "[12, 34, 42, 56, 67, 98]"
      ]
     },
     "execution_count": 34,
     "metadata": {},
     "output_type": "execute_result"
    }
   ],
   "source": [
    "lst"
   ]
  },
  {
   "cell_type": "code",
   "execution_count": 35,
   "id": "8709b4ba",
   "metadata": {},
   "outputs": [
    {
     "data": {
      "text/plain": [
       "[98, 67, 56, 42, 34, 12]"
      ]
     },
     "execution_count": 35,
     "metadata": {},
     "output_type": "execute_result"
    }
   ],
   "source": [
    "lst.sort(reverse=True)\n",
    "lst"
   ]
  },
  {
   "cell_type": "code",
   "execution_count": 37,
   "id": "75693ca7",
   "metadata": {},
   "outputs": [],
   "source": [
    "names =['Tom','Kate','George','Pete','Veronica', 'William','Casey']"
   ]
  },
  {
   "cell_type": "code",
   "execution_count": 38,
   "id": "bca6f8a2",
   "metadata": {},
   "outputs": [
    {
     "data": {
      "text/plain": [
       "['Casey', 'George', 'Kate', 'Pete', 'Tom', 'Veronica', 'William']"
      ]
     },
     "execution_count": 38,
     "metadata": {},
     "output_type": "execute_result"
    }
   ],
   "source": [
    "names.sort()\n",
    "names"
   ]
  },
  {
   "cell_type": "code",
   "execution_count": 39,
   "id": "580c1d97",
   "metadata": {},
   "outputs": [],
   "source": [
    "names.sort(reverse=True)"
   ]
  },
  {
   "cell_type": "code",
   "execution_count": 40,
   "id": "016cb0b3",
   "metadata": {},
   "outputs": [
    {
     "data": {
      "text/plain": [
       "['William', 'Veronica', 'Tom', 'Pete', 'Kate', 'George', 'Casey']"
      ]
     },
     "execution_count": 40,
     "metadata": {},
     "output_type": "execute_result"
    }
   ],
   "source": [
    "names"
   ]
  },
  {
   "cell_type": "code",
   "execution_count": 41,
   "id": "cc4904b2",
   "metadata": {},
   "outputs": [],
   "source": [
    "lst = [1, 1.2, 5.6, 7]"
   ]
  },
  {
   "cell_type": "code",
   "execution_count": 42,
   "id": "06b0dcc4",
   "metadata": {},
   "outputs": [
    {
     "data": {
      "text/plain": [
       "[7, 5.6, 1.2, 1]"
      ]
     },
     "execution_count": 42,
     "metadata": {},
     "output_type": "execute_result"
    }
   ],
   "source": [
    "lst.sort(reverse=True)\n",
    "lst"
   ]
  },
  {
   "cell_type": "code",
   "execution_count": 43,
   "id": "fddc4a3d",
   "metadata": {},
   "outputs": [],
   "source": [
    "lst = [1,1.2,'Apple', [2,5,9]]"
   ]
  },
  {
   "cell_type": "code",
   "execution_count": 44,
   "id": "a4ed2914",
   "metadata": {},
   "outputs": [
    {
     "ename": "TypeError",
     "evalue": "'<' not supported between instances of 'str' and 'float'",
     "output_type": "error",
     "traceback": [
      "\u001b[0;31m---------------------------------------------------------------------------\u001b[0m",
      "\u001b[0;31mTypeError\u001b[0m                                 Traceback (most recent call last)",
      "\u001b[0;32m<ipython-input-44-b7de4ff5ffae>\u001b[0m in \u001b[0;36m<module>\u001b[0;34m\u001b[0m\n\u001b[0;32m----> 1\u001b[0;31m \u001b[0mlst\u001b[0m\u001b[0;34m.\u001b[0m\u001b[0msort\u001b[0m\u001b[0;34m(\u001b[0m\u001b[0;34m)\u001b[0m\u001b[0;34m\u001b[0m\u001b[0;34m\u001b[0m\u001b[0m\n\u001b[0m",
      "\u001b[0;31mTypeError\u001b[0m: '<' not supported between instances of 'str' and 'float'"
     ]
    }
   ],
   "source": [
    "lst.sort()"
   ]
  },
  {
   "cell_type": "markdown",
   "id": "157e4b1e",
   "metadata": {},
   "source": [
    "# List Comprehension"
   ]
  },
  {
   "cell_type": "code",
   "execution_count": 45,
   "id": "ef178d01",
   "metadata": {},
   "outputs": [],
   "source": [
    "lst = [1,2,3,5,6]"
   ]
  },
  {
   "cell_type": "code",
   "execution_count": null,
   "id": "1c663705",
   "metadata": {},
   "outputs": [],
   "source": [
    "sqr_lst =[]\n",
    "\n",
    "\n",
    "for elem in lst:\n",
    "    sqr_lst.append(elem*elem)"
   ]
  },
  {
   "cell_type": "code",
   "execution_count": null,
   "id": "923607c2",
   "metadata": {},
   "outputs": [],
   "source": [
    "sqr_lst"
   ]
  },
  {
   "cell_type": "code",
   "execution_count": null,
   "id": "94613f15",
   "metadata": {},
   "outputs": [],
   "source": [
    "## List Comprehension\n",
    "new_lst = [elem*elem for elem in lst]"
   ]
  },
  {
   "cell_type": "code",
   "execution_count": 46,
   "id": "d40d4090",
   "metadata": {},
   "outputs": [],
   "source": [
    "lst = [1,2,3,4,5]"
   ]
  },
  {
   "cell_type": "code",
   "execution_count": 47,
   "id": "08f4aa55",
   "metadata": {},
   "outputs": [
    {
     "data": {
      "text/plain": [
       "[100, 200, 300, 400, 500]"
      ]
     },
     "execution_count": 47,
     "metadata": {},
     "output_type": "execute_result"
    }
   ],
   "source": [
    "new_lst = [elem*100 for elem in lst]\n",
    "new_lst"
   ]
  },
  {
   "cell_type": "code",
   "execution_count": null,
   "id": "fd46a5b3",
   "metadata": {},
   "outputs": [],
   "source": [
    "new_lst"
   ]
  },
  {
   "cell_type": "code",
   "execution_count": null,
   "id": "f7e0019e",
   "metadata": {},
   "outputs": [],
   "source": [
    "for elem in range(2,20,2):\n",
    "    print(elem)"
   ]
  },
  {
   "cell_type": "code",
   "execution_count": null,
   "id": "5d50e97b",
   "metadata": {},
   "outputs": [],
   "source": [
    "new_lst = [elem*100   for elem in range(1,6)]\n",
    "new_lst"
   ]
  },
  {
   "cell_type": "code",
   "execution_count": null,
   "id": "f34b5bdb",
   "metadata": {},
   "outputs": [],
   "source": [
    "new_lst = [elem   for elem in range(100,600,100) ]\n",
    "new_lst"
   ]
  },
  {
   "cell_type": "code",
   "execution_count": null,
   "id": "3bde2a62",
   "metadata": {},
   "outputs": [],
   "source": [
    "len(new_lst)"
   ]
  },
  {
   "cell_type": "code",
   "execution_count": null,
   "id": "447904e7",
   "metadata": {},
   "outputs": [],
   "source": [
    "1000 in new_lst"
   ]
  },
  {
   "cell_type": "markdown",
   "id": "acf74490",
   "metadata": {},
   "source": [
    "### Assigning l1 to l2 will make l1 and l2 point to the same object"
   ]
  },
  {
   "cell_type": "code",
   "execution_count": null,
   "id": "b6f852ce",
   "metadata": {},
   "outputs": [],
   "source": [
    "l1 = [1,2,3]"
   ]
  },
  {
   "cell_type": "code",
   "execution_count": null,
   "id": "d403711d",
   "metadata": {},
   "outputs": [],
   "source": [
    "l2 = l1"
   ]
  },
  {
   "cell_type": "code",
   "execution_count": null,
   "id": "1a9c0a4c",
   "metadata": {},
   "outputs": [],
   "source": [
    "l2"
   ]
  },
  {
   "cell_type": "code",
   "execution_count": null,
   "id": "b2c4889f",
   "metadata": {},
   "outputs": [],
   "source": [
    "l1.append(100)\n",
    "l1"
   ]
  },
  {
   "cell_type": "code",
   "execution_count": null,
   "id": "92502e2d",
   "metadata": {},
   "outputs": [],
   "source": [
    "l2"
   ]
  },
  {
   "cell_type": "markdown",
   "id": "57e59d0a",
   "metadata": {},
   "source": [
    "### Use copy() to avoid this"
   ]
  },
  {
   "cell_type": "code",
   "execution_count": null,
   "id": "d065fc17",
   "metadata": {},
   "outputs": [],
   "source": [
    "l1 = [10,20,30]"
   ]
  },
  {
   "cell_type": "code",
   "execution_count": null,
   "id": "14b9c148",
   "metadata": {},
   "outputs": [],
   "source": [
    "l2 = l1.copy()"
   ]
  },
  {
   "cell_type": "code",
   "execution_count": null,
   "id": "cd00665c",
   "metadata": {},
   "outputs": [],
   "source": [
    "l1.append(111)\n",
    "l1"
   ]
  },
  {
   "cell_type": "code",
   "execution_count": null,
   "id": "f1a588b3",
   "metadata": {},
   "outputs": [],
   "source": [
    "l2"
   ]
  },
  {
   "cell_type": "markdown",
   "id": "feeac46a",
   "metadata": {},
   "source": [
    "## Tuple"
   ]
  },
  {
   "cell_type": "code",
   "execution_count": 22,
   "id": "b26543b4",
   "metadata": {},
   "outputs": [],
   "source": [
    "tup =(7,4,6,3,[1,2,3],66,88)"
   ]
  },
  {
   "cell_type": "code",
   "execution_count": 20,
   "id": "6ef97d11",
   "metadata": {},
   "outputs": [
    {
     "ename": "TypeError",
     "evalue": "'tuple' object does not support item assignment",
     "output_type": "error",
     "traceback": [
      "\u001b[0;31m---------------------------------------------------------------------------\u001b[0m",
      "\u001b[0;31mTypeError\u001b[0m                                 Traceback (most recent call last)",
      "\u001b[0;32m<ipython-input-20-ab4ddbb812c4>\u001b[0m in \u001b[0;36m<module>\u001b[0;34m\u001b[0m\n\u001b[0;32m----> 1\u001b[0;31m \u001b[0mtup\u001b[0m\u001b[0;34m[\u001b[0m\u001b[0;36m2\u001b[0m\u001b[0;34m]\u001b[0m \u001b[0;34m=\u001b[0m \u001b[0;36m100\u001b[0m\u001b[0;34m\u001b[0m\u001b[0;34m\u001b[0m\u001b[0m\n\u001b[0m",
      "\u001b[0;31mTypeError\u001b[0m: 'tuple' object does not support item assignment"
     ]
    }
   ],
   "source": [
    "tup[2] = 100"
   ]
  },
  {
   "cell_type": "code",
   "execution_count": 23,
   "id": "f3b24412",
   "metadata": {},
   "outputs": [],
   "source": [
    "tup[4].append(100)"
   ]
  },
  {
   "cell_type": "code",
   "execution_count": 24,
   "id": "ad5552ab",
   "metadata": {},
   "outputs": [
    {
     "data": {
      "text/plain": [
       "(7, 4, 6, 3, [1, 2, 3, 100], 66, 88)"
      ]
     },
     "execution_count": 24,
     "metadata": {},
     "output_type": "execute_result"
    }
   ],
   "source": [
    "tup"
   ]
  },
  {
   "cell_type": "markdown",
   "id": "74223e73",
   "metadata": {},
   "source": [
    "## String"
   ]
  },
  {
   "cell_type": "code",
   "execution_count": 25,
   "id": "d069ec37",
   "metadata": {},
   "outputs": [
    {
     "data": {
      "text/plain": [
       "'Python'"
      ]
     },
     "execution_count": 25,
     "metadata": {},
     "output_type": "execute_result"
    }
   ],
   "source": [
    "str1 = 'python'\n",
    "str1.capitalize()"
   ]
  },
  {
   "cell_type": "code",
   "execution_count": 26,
   "id": "6da129f1",
   "metadata": {},
   "outputs": [
    {
     "data": {
      "text/plain": [
       "'python'"
      ]
     },
     "execution_count": 26,
     "metadata": {},
     "output_type": "execute_result"
    }
   ],
   "source": [
    "str1"
   ]
  },
  {
   "cell_type": "code",
   "execution_count": 34,
   "id": "c9c58fb8",
   "metadata": {},
   "outputs": [
    {
     "data": {
      "text/plain": [
       "'Hello World'"
      ]
     },
     "execution_count": 34,
     "metadata": {},
     "output_type": "execute_result"
    }
   ],
   "source": [
    "'hello world'.title()"
   ]
  },
  {
   "cell_type": "code",
   "execution_count": 35,
   "id": "2f568011",
   "metadata": {},
   "outputs": [
    {
     "data": {
      "text/plain": [
       "(True, False)"
      ]
     },
     "execution_count": 35,
     "metadata": {},
     "output_type": "execute_result"
    }
   ],
   "source": [
    "str1.startswith('py'), str1.startswith('fy')"
   ]
  },
  {
   "cell_type": "code",
   "execution_count": 36,
   "id": "88b76ecd",
   "metadata": {},
   "outputs": [
    {
     "data": {
      "text/plain": [
       "(True, False)"
      ]
     },
     "execution_count": 36,
     "metadata": {},
     "output_type": "execute_result"
    }
   ],
   "source": [
    "str1.endswith('on'), str1.endswith('fy')"
   ]
  },
  {
   "cell_type": "code",
   "execution_count": 37,
   "id": "265c9a72",
   "metadata": {},
   "outputs": [],
   "source": [
    "my_str = 'pythontista'"
   ]
  },
  {
   "cell_type": "code",
   "execution_count": 38,
   "id": "03dd8c3e",
   "metadata": {},
   "outputs": [
    {
     "data": {
      "text/plain": [
       "[(0, 'p'),\n",
       " (1, 'y'),\n",
       " (2, 't'),\n",
       " (3, 'h'),\n",
       " (4, 'o'),\n",
       " (5, 'n'),\n",
       " (6, 't'),\n",
       " (7, 'i'),\n",
       " (8, 's'),\n",
       " (9, 't'),\n",
       " (10, 'a')]"
      ]
     },
     "execution_count": 38,
     "metadata": {},
     "output_type": "execute_result"
    }
   ],
   "source": [
    "list(enumerate(my_str))"
   ]
  },
  {
   "cell_type": "code",
   "execution_count": 39,
   "id": "73587746",
   "metadata": {},
   "outputs": [
    {
     "data": {
      "text/plain": [
       "2"
      ]
     },
     "execution_count": 39,
     "metadata": {},
     "output_type": "execute_result"
    }
   ],
   "source": [
    "my_str.find('t')"
   ]
  },
  {
   "cell_type": "code",
   "execution_count": 40,
   "id": "7eb71533",
   "metadata": {},
   "outputs": [
    {
     "data": {
      "text/plain": [
       "6"
      ]
     },
     "execution_count": 40,
     "metadata": {},
     "output_type": "execute_result"
    }
   ],
   "source": [
    "my_str.index('t',3,9)"
   ]
  },
  {
   "cell_type": "code",
   "execution_count": 51,
   "id": "98a03a4a",
   "metadata": {},
   "outputs": [],
   "source": [
    "my_str = '1234'"
   ]
  },
  {
   "cell_type": "code",
   "execution_count": 52,
   "id": "67e6da99",
   "metadata": {},
   "outputs": [
    {
     "data": {
      "text/plain": [
       "(False, True, True)"
      ]
     },
     "execution_count": 52,
     "metadata": {},
     "output_type": "execute_result"
    }
   ],
   "source": [
    "my_str.isalpha(), my_str.isalnum(), my_str.isnumeric()"
   ]
  },
  {
   "cell_type": "code",
   "execution_count": 53,
   "id": "d0783661",
   "metadata": {},
   "outputs": [
    {
     "data": {
      "text/plain": [
       "(True, False)"
      ]
     },
     "execution_count": 53,
     "metadata": {},
     "output_type": "execute_result"
    }
   ],
   "source": [
    "'python'.islower(),'Python'.islower()"
   ]
  },
  {
   "cell_type": "code",
   "execution_count": 54,
   "id": "e9e6e3a7",
   "metadata": {},
   "outputs": [
    {
     "data": {
      "text/plain": [
       "(False, True)"
      ]
     },
     "execution_count": 54,
     "metadata": {},
     "output_type": "execute_result"
    }
   ],
   "source": [
    "''.isspace(), ' '.isspace()"
   ]
  },
  {
   "cell_type": "code",
   "execution_count": 55,
   "id": "70622ae9",
   "metadata": {},
   "outputs": [
    {
     "data": {
      "text/plain": [
       "('python', '  python', 'python  ')"
      ]
     },
     "execution_count": 55,
     "metadata": {},
     "output_type": "execute_result"
    }
   ],
   "source": [
    "'  python  '.strip(), '  python  '.rstrip(), '  python  '.lstrip()"
   ]
  },
  {
   "cell_type": "code",
   "execution_count": 56,
   "id": "decb43d1",
   "metadata": {},
   "outputs": [
    {
     "data": {
      "text/plain": [
       "['apple', 'orange', 'kiwi', 'banana']"
      ]
     },
     "execution_count": 56,
     "metadata": {},
     "output_type": "execute_result"
    }
   ],
   "source": [
    "'apple,orange,kiwi,banana'.split(',')"
   ]
  },
  {
   "cell_type": "code",
   "execution_count": 58,
   "id": "ee9e9d6a",
   "metadata": {},
   "outputs": [
    {
     "data": {
      "text/plain": [
       "['apple,orange', 'kiwi', 'banana']"
      ]
     },
     "execution_count": 58,
     "metadata": {},
     "output_type": "execute_result"
    }
   ],
   "source": [
    "'apple,orange;kiwi;banana'.split(';')"
   ]
  },
  {
   "cell_type": "code",
   "execution_count": 59,
   "id": "fbb32009",
   "metadata": {},
   "outputs": [],
   "source": [
    "#dir(list)"
   ]
  },
  {
   "cell_type": "markdown",
   "id": "2085c1ef",
   "metadata": {},
   "source": [
    "# Immutability"
   ]
  },
  {
   "cell_type": "code",
   "execution_count": 11,
   "id": "983d26d2",
   "metadata": {},
   "outputs": [
    {
     "data": {
      "text/plain": [
       "4365777536"
      ]
     },
     "execution_count": 11,
     "metadata": {},
     "output_type": "execute_result"
    }
   ],
   "source": [
    "x = 10\n",
    "id(x)"
   ]
  },
  {
   "cell_type": "code",
   "execution_count": 12,
   "id": "ae506aa2",
   "metadata": {},
   "outputs": [
    {
     "data": {
      "text/plain": [
       "4365777856"
      ]
     },
     "execution_count": 12,
     "metadata": {},
     "output_type": "execute_result"
    }
   ],
   "source": [
    "x = 20\n",
    "id(x)"
   ]
  },
  {
   "cell_type": "code",
   "execution_count": 13,
   "id": "f2662c6a",
   "metadata": {},
   "outputs": [
    {
     "data": {
      "text/plain": [
       "[1, 2, 3]"
      ]
     },
     "execution_count": 13,
     "metadata": {},
     "output_type": "execute_result"
    }
   ],
   "source": [
    "lst = [1,2,3]\n",
    "lst"
   ]
  },
  {
   "cell_type": "code",
   "execution_count": 14,
   "id": "2d97c50c",
   "metadata": {},
   "outputs": [],
   "source": [
    "lst[1] = 100"
   ]
  },
  {
   "cell_type": "code",
   "execution_count": 15,
   "id": "f7bd95fd",
   "metadata": {},
   "outputs": [
    {
     "data": {
      "text/plain": [
       "[1, 100, 3]"
      ]
     },
     "execution_count": 15,
     "metadata": {},
     "output_type": "execute_result"
    }
   ],
   "source": [
    "lst"
   ]
  },
  {
   "cell_type": "code",
   "execution_count": 16,
   "id": "7867c226",
   "metadata": {},
   "outputs": [],
   "source": [
    "tup = (1,2,3)"
   ]
  },
  {
   "cell_type": "code",
   "execution_count": 17,
   "id": "d3650091",
   "metadata": {},
   "outputs": [
    {
     "ename": "TypeError",
     "evalue": "'tuple' object does not support item assignment",
     "output_type": "error",
     "traceback": [
      "\u001b[0;31m---------------------------------------------------------------------------\u001b[0m",
      "\u001b[0;31mTypeError\u001b[0m                                 Traceback (most recent call last)",
      "\u001b[0;32m<ipython-input-17-6a950989ff86>\u001b[0m in \u001b[0;36m<module>\u001b[0;34m\u001b[0m\n\u001b[0;32m----> 1\u001b[0;31m \u001b[0mtup\u001b[0m\u001b[0;34m[\u001b[0m\u001b[0;36m1\u001b[0m\u001b[0;34m]\u001b[0m \u001b[0;34m=\u001b[0m \u001b[0;36m100\u001b[0m\u001b[0;34m\u001b[0m\u001b[0;34m\u001b[0m\u001b[0m\n\u001b[0m",
      "\u001b[0;31mTypeError\u001b[0m: 'tuple' object does not support item assignment"
     ]
    }
   ],
   "source": [
    "tup[1] = 100"
   ]
  },
  {
   "cell_type": "code",
   "execution_count": 18,
   "id": "b8bafddc",
   "metadata": {},
   "outputs": [
    {
     "data": {
      "text/plain": [
       "['__add__',\n",
       " '__class__',\n",
       " '__contains__',\n",
       " '__delattr__',\n",
       " '__dir__',\n",
       " '__doc__',\n",
       " '__eq__',\n",
       " '__format__',\n",
       " '__ge__',\n",
       " '__getattribute__',\n",
       " '__getitem__',\n",
       " '__getnewargs__',\n",
       " '__gt__',\n",
       " '__hash__',\n",
       " '__init__',\n",
       " '__init_subclass__',\n",
       " '__iter__',\n",
       " '__le__',\n",
       " '__len__',\n",
       " '__lt__',\n",
       " '__mul__',\n",
       " '__ne__',\n",
       " '__new__',\n",
       " '__reduce__',\n",
       " '__reduce_ex__',\n",
       " '__repr__',\n",
       " '__rmul__',\n",
       " '__setattr__',\n",
       " '__sizeof__',\n",
       " '__str__',\n",
       " '__subclasshook__',\n",
       " 'count',\n",
       " 'index']"
      ]
     },
     "execution_count": 18,
     "metadata": {},
     "output_type": "execute_result"
    }
   ],
   "source": [
    "dir(tuple)"
   ]
  },
  {
   "cell_type": "code",
   "execution_count": null,
   "id": "2a6d5df7",
   "metadata": {},
   "outputs": [],
   "source": []
  }
 ],
 "metadata": {
  "kernelspec": {
   "display_name": "Python 3",
   "language": "python",
   "name": "python3"
  },
  "language_info": {
   "codemirror_mode": {
    "name": "ipython",
    "version": 3
   },
   "file_extension": ".py",
   "mimetype": "text/x-python",
   "name": "python",
   "nbconvert_exporter": "python",
   "pygments_lexer": "ipython3",
   "version": "3.8.8"
  }
 },
 "nbformat": 4,
 "nbformat_minor": 5
}
