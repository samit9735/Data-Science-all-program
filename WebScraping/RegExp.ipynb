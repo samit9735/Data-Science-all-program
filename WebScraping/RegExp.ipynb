{
 "cells": [
  {
   "cell_type": "markdown",
   "metadata": {},
   "source": [
    "## Regular Expressions"
   ]
  },
  {
   "cell_type": "markdown",
   "metadata": {},
   "source": [
    "### <font color ='brown'> Notes </font>\n",
    "\n",
    "#### Format: match = re.search(pat, str) \n",
    "\n",
    "+ a, X, 9, < -- ordinary characters just match themselves exactly. \n",
    "+ The meta-characters which do not match themselves because they have special meanings are: . ^ $ * + ? { [ ] \\ | ( ) \n",
    "+ . (a period) -- matches any single character except newline '\\n'\n",
    "+ . (a period) -- matches any\n",
    "+ \\w -- (lowercase w) matches a \"word\" character: a letter or digit or underbar [a-zA-Z0-9_]. \n",
    "+ \\b -- boundary between word and non-word\n",
    "+ \\s -- (lowercase s) matches a single whitespace character -- space, newline, return, tab, form [ \\n\\r\\t\\f]. \n",
    "+ \\S (upper case S) matches any non-whitespace character.\n",
    "+ \\t, \\n, \\r -- tab, newline, return\n",
    "+ \\d -- decimal digit [0-9] \n",
    "\n",
    "+ ^ = start, $ = end -- match the start or end of the string\n",
    "+ \\ -- inhibit the \"specialness\" of a character. "
   ]
  },
  {
   "cell_type": "code",
   "execution_count": 1,
   "metadata": {},
   "outputs": [],
   "source": [
    "import re"
   ]
  },
  {
   "cell_type": "code",
   "execution_count": 3,
   "metadata": {},
   "outputs": [
    {
     "name": "stdout",
     "output_type": "stream",
     "text": [
      "ix\n"
     ]
    }
   ],
   "source": [
    "match = re.search('ix','six')\n",
    "print(match.group())"
   ]
  },
  {
   "cell_type": "code",
   "execution_count": 5,
   "metadata": {},
   "outputs": [
    {
     "name": "stdout",
     "output_type": "stream",
     "text": [
      "No Match\n"
     ]
    }
   ],
   "source": [
    "match = re.search('ie','six')\n",
    "\n",
    "if match:\n",
    "    print('Found ', match.group())\n",
    "else:\n",
    "    print('No Match')"
   ]
  },
  {
   "cell_type": "code",
   "execution_count": 7,
   "metadata": {},
   "outputs": [
    {
     "name": "stdout",
     "output_type": "stream",
     "text": [
      "Found  isi\n"
     ]
    }
   ],
   "source": [
    "search_str = 'Patronising'\n",
    "match = re.search('isi',search_str)\n",
    "\n",
    "if match:\n",
    "    print('Found ', match.group())\n",
    "else:\n",
    "    print('No Match')"
   ]
  },
  {
   "cell_type": "code",
   "execution_count": 8,
   "metadata": {},
   "outputs": [
    {
     "name": "stdout",
     "output_type": "stream",
     "text": [
      "Found  sing\n"
     ]
    }
   ],
   "source": [
    "## End with\n",
    "match = re.search('sing$',search_str)\n",
    "\n",
    "if match:\n",
    "    print('Found ', match.group())\n",
    "else:\n",
    "    print('No Match')"
   ]
  },
  {
   "cell_type": "code",
   "execution_count": 9,
   "metadata": {},
   "outputs": [
    {
     "name": "stdout",
     "output_type": "stream",
     "text": [
      "Found  Patr\n"
     ]
    }
   ],
   "source": [
    "### Starts with\n",
    "match = re.search('^Patr',search_str)\n",
    "\n",
    "if match:\n",
    "    print('Found ', match.group())\n",
    "else:\n",
    "    print('No Match')"
   ]
  },
  {
   "cell_type": "code",
   "execution_count": 13,
   "metadata": {},
   "outputs": [
    {
     "name": "stdout",
     "output_type": "stream",
     "text": [
      "Found  A235\n"
     ]
    }
   ],
   "source": [
    "## . = any char but \\n\n",
    "\n",
    "match =  re.search('....','A2356789')\n",
    "if match:\n",
    "    print('Found ', match.group())\n",
    "else:\n",
    "    print('No Match')"
   ]
  },
  {
   "cell_type": "markdown",
   "metadata": {},
   "source": [
    "+ \\w -- (lowercase w) matches a \"word\" character: a letter or digit or underbar [a-zA-Z0-9_]. \n",
    "+ \\d -- decimal digit [0-9] "
   ]
  },
  {
   "cell_type": "code",
   "execution_count": 16,
   "metadata": {},
   "outputs": [
    {
     "name": "stdout",
     "output_type": "stream",
     "text": [
      "No Match\n"
     ]
    },
    {
     "data": {
      "text/plain": [
       "''"
      ]
     },
     "execution_count": 16,
     "metadata": {},
     "output_type": "execute_result"
    }
   ],
   "source": [
    "## \\d = digit , \\w =  char\n",
    "#match = re.search(r'\\d\\d\\d', '753 B.C') \n",
    "match = re.sub(r'\\w\\w\\w', 'abc@xy.com','') \n",
    "if match:\n",
    "    print('Found ', match.group())\n",
    "else:\n",
    "    print('No Match')\n"
   ]
  },
  {
   "cell_type": "code",
   "execution_count": 18,
   "metadata": {},
   "outputs": [
    {
     "name": "stdout",
     "output_type": "stream",
     "text": [
      "Found  753 \n"
     ]
    }
   ],
   "source": [
    "## \\s = space\n",
    "match = re.search(r'\\d\\d\\d\\s', '753 B.C') \n",
    "\n",
    "if match:\n",
    "    print('Found ', match.group())\n",
    "else:\n",
    "    print('No Match')"
   ]
  },
  {
   "cell_type": "markdown",
   "metadata": {},
   "source": [
    "#### Repetition"
   ]
  },
  {
   "cell_type": "markdown",
   "metadata": {},
   "source": [
    "+ '+'   -- 1 or more occurrences of the pattern to its left, e.g. 'i+' = one or more i's\n",
    "+ '*'   -- 0 or more occurrences of the pattern to its left\n",
    "+ '?'   -- match 0 or 1 occurrences of the pattern to its left\n"
   ]
  },
  {
   "cell_type": "code",
   "execution_count": 19,
   "metadata": {},
   "outputs": [
    {
     "name": "stdout",
     "output_type": "stream",
     "text": [
      "Found  ooooo\n"
     ]
    }
   ],
   "source": [
    "  match = re.search(r'o+', 'hellooooo') \n",
    "  if match:\n",
    "    print('Found ', match.group())"
   ]
  },
  {
   "cell_type": "code",
   "execution_count": 20,
   "metadata": {},
   "outputs": [
    {
     "name": "stdout",
     "output_type": "stream",
     "text": [
      "Found  \n"
     ]
    }
   ],
   "source": [
    "match = re.search(r'o*', 'hell') \n",
    "if match:\n",
    "    print('Found ', match.group())"
   ]
  },
  {
   "cell_type": "code",
   "execution_count": 23,
   "metadata": {},
   "outputs": [
    {
     "name": "stdout",
     "output_type": "stream",
     "text": [
      "Found  12   3\n"
     ]
    }
   ],
   "source": [
    "## \\s* = zero or more whitespace chars\n",
    "## Here look for 3 digits, possibly separated by whitespace.\n",
    "match = re.search(r'\\d\\s*\\d\\s*\\d', 'xx12   3xx')\n",
    "if match:\n",
    "    print('Found ', match.group())"
   ]
  },
  {
   "cell_type": "markdown",
   "metadata": {},
   "source": [
    "#### Matching emails"
   ]
  },
  {
   "cell_type": "code",
   "execution_count": 27,
   "metadata": {},
   "outputs": [
    {
     "name": "stdout",
     "output_type": "stream",
     "text": [
      "elephant@google.com\n"
     ]
    }
   ],
   "source": [
    "str = 'My email is pink-elephant@google.com. Thank you'\n",
    "\n",
    "match = re.search(r'\\w+@\\w+.com', str)\n",
    "if match:\n",
    "    print(match.group()  )\n"
   ]
  },
  {
   "cell_type": "code",
   "execution_count": 30,
   "metadata": {},
   "outputs": [
    {
     "name": "stdout",
     "output_type": "stream",
     "text": [
      "pink_elephant@google.com\n"
     ]
    }
   ],
   "source": [
    "str = 'My email is pink_elephant@google.com. Thank you'\n",
    "\n",
    "## Remove specialness of a character\n",
    "match = re.search(r'[\\w.-]+@[\\w.-]+\\.com', str)\n",
    "if match:\n",
    "    print(match.group() )"
   ]
  },
  {
   "cell_type": "markdown",
   "metadata": {},
   "source": [
    "#### Group Extraction"
   ]
  },
  {
   "cell_type": "code",
   "execution_count": 37,
   "metadata": {},
   "outputs": [],
   "source": [
    "my_str = 'My email is pink.elephant@gmail.com. Thank you'\n",
    "\n",
    "## Remove specialness of a character\n",
    "match = re.search(r'([\\w.-]+)@([\\w.-]+\\.com)', my_str)\n",
    "if match:\n",
    "    print('user name: ', match.group(1) )\n",
    "    print('email provider: ', match.group(2) )"
   ]
  },
  {
   "cell_type": "code",
   "execution_count": 33,
   "metadata": {},
   "outputs": [
    {
     "name": "stdout",
     "output_type": "stream",
     "text": [
      "support@gmail.com\n",
      "pink.elephant@gmail.com.\n"
     ]
    }
   ],
   "source": [
    "## Suppose we have a text with many email addresses\n",
    "my_str = 'Please contact support@gmail.com for any queries. You can also reach me at pink.elephant@gmail.com. Thank you'\n",
    "\n",
    "  ## re.findall() returns a list of all the found email strings\n",
    "emails = re.findall(r'[\\w\\.-]+@[\\w\\.-]+', my_str) \n",
    "for email in emails:\n",
    "    print (email)\n"
   ]
  },
  {
   "cell_type": "markdown",
   "metadata": {},
   "source": [
    "### String Substitution"
   ]
  },
  {
   "cell_type": "code",
   "execution_count": 38,
   "metadata": {},
   "outputs": [
    {
     "name": "stdout",
     "output_type": "stream",
     "text": [
      "Champakali\n"
     ]
    }
   ],
   "source": [
    "my_str = 'Anarkali'\n",
    "print(re.sub(r'Anar',r'Champa',my_str))"
   ]
  },
  {
   "cell_type": "markdown",
   "metadata": {},
   "source": [
    "### Advanced"
   ]
  },
  {
   "cell_type": "code",
   "execution_count": 39,
   "metadata": {},
   "outputs": [
    {
     "name": "stdout",
     "output_type": "stream",
     "text": [
      "Please contact geethika@gmail.com for any queries. \n"
     ]
    }
   ],
   "source": [
    "my_str = 'Please contact support@gmail.com for any queries. '\n",
    "\n",
    "print(re.sub(r'([\\w\\.-]+)@([\\w\\.-]+\\.com)',r'geethika@\\2',my_str))"
   ]
  },
  {
   "cell_type": "code",
   "execution_count": 40,
   "metadata": {},
   "outputs": [
    {
     "name": "stdout",
     "output_type": "stream",
     "text": [
      "Please contact support@yahoo.com for any queries. You can also reach me at pink.elephant@yahoo.com Thank you\n",
      "Please contact blah@gmail.com for any queries. You can also reach me at blah@gmail.com. Thank you\n"
     ]
    }
   ],
   "source": [
    "my_str = 'Please contact support@gmail.com for any queries. You can also reach me at pink.elephant@gmail.com. Thank you'\n",
    "## re.sub(pat, replacement, str) -- returns new string with all replacements,\n",
    "## \\1 is group(1), \\2 group(2) in the replacement\n",
    "print(re.sub(r'([\\w\\.-]+)@([\\w\\.-]+)', r'\\1@yahoo.com', my_str))\n",
    "print(re.sub(r'([\\w\\.-]+)@([\\w\\.-]+)', r'blah@\\2', my_str))"
   ]
  },
  {
   "cell_type": "code",
   "execution_count": null,
   "metadata": {},
   "outputs": [],
   "source": []
  }
 ],
 "metadata": {
  "interpreter": {
   "hash": "bab68610a7da1c397d023cc1b38559851e158552e221441758b9edad06bfc4f6"
  },
  "kernelspec": {
   "display_name": "Python 3",
   "language": "python",
   "name": "python3"
  },
  "language_info": {
   "codemirror_mode": {
    "name": "ipython",
    "version": 3
   },
   "file_extension": ".py",
   "mimetype": "text/x-python",
   "name": "python",
   "nbconvert_exporter": "python",
   "pygments_lexer": "ipython3",
   "version": "3.8.8"
  }
 },
 "nbformat": 4,
 "nbformat_minor": 2
}
